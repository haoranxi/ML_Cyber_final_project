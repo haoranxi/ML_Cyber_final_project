{
  "nbformat": 4,
  "nbformat_minor": 0,
  "metadata": {
    "colab": {
      "name": "sunglasses_STRIP.ipynb",
      "provenance": [],
      "collapsed_sections": []
    },
    "kernelspec": {
      "name": "python3",
      "display_name": "Python 3"
    },
    "language_info": {
      "name": "python"
    }
  },
  "cells": [
    {
      "cell_type": "code",
      "source": [
        "import keras\n",
        "import keras.backend as K\n",
        "from keras import initializers\n",
        "import h5py\n",
        "import numpy as np"
      ],
      "metadata": {
        "id": "OAexvTVSGVae"
      },
      "execution_count": 1,
      "outputs": []
    },
    {
      "cell_type": "code",
      "source": [
        "from google.colab import drive\n",
        "drive.mount('/content/gdrive')"
      ],
      "metadata": {
        "colab": {
          "base_uri": "https://localhost:8080/"
        },
        "id": "7gF9mG5YHx_j",
        "outputId": "c6fcb58e-cab0-4367-be35-e520421c9d40"
      },
      "execution_count": 2,
      "outputs": [
        {
          "output_type": "stream",
          "name": "stdout",
          "text": [
            "Mounted at /content/gdrive\n"
          ]
        }
      ]
    },
    {
      "cell_type": "code",
      "source": [
        "def data_loader(filepath):\n",
        "    data = h5py.File(filepath, 'r')\n",
        "    x_data = np.array(data['data'])\n",
        "    y_data = np.array(data['label'])\n",
        "    x_data = x_data.transpose((0,2,3,1))\n",
        "\n",
        "    return x_data, y_data"
      ],
      "metadata": {
        "id": "09AwtzF7GhJt"
      },
      "execution_count": 6,
      "outputs": []
    },
    {
      "cell_type": "code",
      "source": [
        "import numpy as np\n",
        "import random\n",
        "\n",
        "class G():\n",
        "  \n",
        "  def __init__(self, model_fixed, clean_dataset,\n",
        "               num_overlay=6,\n",
        "               clean_data_overlay_rate=0.4,\n",
        "               input_data_overlay_rate=0.9,\n",
        "               cls=1283,\n",
        "               threshold = 0.01):\n",
        "    # super(G, self).__init__()\n",
        "    self.model_fixed = model_fixed\n",
        "    self.clean_dataset = clean_dataset\n",
        "    self.num_overlay = num_overlay\n",
        "    self.clean_data_overlay_rate = clean_data_overlay_rate\n",
        "    self.input_data_overlay_rate = input_data_overlay_rate\n",
        "    self.cls = 1283\n",
        "    self.threshold = threshold\n",
        "  \n",
        "  def overlay(self, x, clean_img):\n",
        "    overlay_img = x * self.input_data_overlay_rate + clean_img * self.clean_data_overlay_rate\n",
        "    return np.clip(overlay_img, 0.0, 1.0)\n",
        "  \n",
        "  def predict(self, x):\n",
        "    final_out = []\n",
        "    for i in range(x.shape[0]):\n",
        "      img_shape = x[i].shape\n",
        "      overlay_res = np.zeros(self.num_overlay)\n",
        "      for j in range(self.num_overlay):\n",
        "        overlay_img = self.overlay(x[i],\n",
        "                                   self.clean_dataset[random.randint(0, self.clean_dataset.shape[0]-1)])\n",
        "        overlay_img = np.asarray(overlay_img).reshape((1,\n",
        "                                                       img_shape[0],\n",
        "                                                       img_shape[1],\n",
        "                                                       img_shape[2]))\n",
        "        overlay_res[j] = np.argmax(self.model_fixed.predict(overlay_img))\n",
        "      if np.var(overlay_res) < self.threshold:\n",
        "        # smaller variance on overlayed prediction => poisoned\n",
        "        output_G = np.zeros(self.cls + 1)\n",
        "        output_G[self.cls] = 1\n",
        "      else:\n",
        "        # bigger variance on overlayed prediction => not poisoned\n",
        "        x_single = np.asarray(x[i]).reshape((1,\n",
        "                                             img_shape[0],\n",
        "                                             img_shape[1],\n",
        "                                             img_shape[2]))\n",
        "        output_G = np.append(self.model_fixed.predict(x_single), 0)\n",
        "      final_out.append(output_G)\n",
        "    return np.array(final_out)"
      ],
      "metadata": {
        "id": "4Rr7mC4xC8h2"
      },
      "execution_count": 35,
      "outputs": []
    },
    {
      "cell_type": "code",
      "source": [
        "# supposely \"eval.py\" for alternative G class\n",
        "\n",
        "\n",
        "clean_data_filename = '/content/gdrive/MyDrive/ml_cyber_data/clean_test_data.h5'\n",
        "clean_data_val_filename = '/content/gdrive/MyDrive/ml_cyber_data/clean_validation_data.h5'\n",
        "poisoned_data_filename = '/content/gdrive/MyDrive/ml_cyber_data/sunglasses_poisoned_data.h5'\n",
        "repaired_model_filename = '/content/gdrive/MyDrive/ml_cyber_data/sunglasses_bd_net.h5'\n",
        "# repaired_model_filename = '/content/gdrive/MyDrive/ml_cyber_data/sunglasses_fine_pruning_model.h5'\n",
        "\n",
        "\n",
        "\n",
        "cl_x_test, cl_y_test = data_loader(clean_data_filename)\n",
        "bd_x_test, bd_y_test = data_loader(poisoned_data_filename)\n",
        "clean_val, clean_val_y = data_loader(clean_data_val_filename)\n",
        "\n",
        "n = 100\n",
        "cl_x_test = cl_x_test[:n]\n",
        "cl_y_test = cl_y_test[:n]\n",
        "bd_x_test = bd_x_test[:n]\n",
        "bd_y_test = bd_y_test[:n]\n",
        "clean_val = clean_val[:n]\n",
        "\n",
        "\n",
        "repaired_model = keras.models.load_model(repaired_model_filename, compile=False)\n",
        "\n"
      ],
      "metadata": {
        "id": "bI5JlXvLmjQ4"
      },
      "execution_count": 20,
      "outputs": []
    },
    {
      "cell_type": "code",
      "source": [
        "goodnet = G(repaired_model, clean_val/255)\n",
        "\n",
        "cl_label_p = np.argmax(goodnet.predict(cl_x_test/255), axis=1)\n",
        "clean_accuracy = np.mean(np.equal(cl_label_p, cl_y_test)) * 100\n",
        "print('Clean Classification accuracy:', clean_accuracy)\n",
        "\n",
        "bd_label_p = np.argmax(goodnet.predict(bd_x_test/255), axis=1)\n",
        "asr = np.mean(np.equal(bd_label_p, bd_y_test)) * 100\n",
        "print('Attack Success Rate:', asr)"
      ],
      "metadata": {
        "colab": {
          "base_uri": "https://localhost:8080/"
        },
        "id": "xbee7QMiS0Ex",
        "outputId": "be45b4ad-b961-48e3-c383-e948c9759ba5"
      },
      "execution_count": 36,
      "outputs": [
        {
          "output_type": "stream",
          "name": "stdout",
          "text": [
            "Clean Classification accuracy: 87.0\n",
            "Attack Success Rate: 4.0\n"
          ]
        }
      ]
    }
  ]
}
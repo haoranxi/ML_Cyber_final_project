{
  "nbformat": 4,
  "nbformat_minor": 0,
  "metadata": {
    "colab": {
      "name": "STRIP_sunglasses.ipynb",
      "provenance": [],
      "collapsed_sections": []
    },
    "kernelspec": {
      "name": "python3",
      "display_name": "Python 3"
    },
    "language_info": {
      "name": "python"
    }
  },
  "cells": [
    {
      "cell_type": "code",
      "source": [
        "import keras\n",
        "import keras.backend as K\n",
        "from keras import initializers\n",
        "import h5py\n",
        "import numpy as np"
      ],
      "metadata": {
        "id": "OAexvTVSGVae"
      },
      "execution_count": 1,
      "outputs": []
    },
    {
      "cell_type": "code",
      "source": [
        "from google.colab import drive\n",
        "drive.mount('/content/gdrive')"
      ],
      "metadata": {
        "colab": {
          "base_uri": "https://localhost:8080/"
        },
        "id": "7gF9mG5YHx_j",
        "outputId": "628443ce-c919-4574-a3b8-60ac130f9854"
      },
      "execution_count": 5,
      "outputs": [
        {
          "output_type": "stream",
          "name": "stdout",
          "text": [
            "Drive already mounted at /content/gdrive; to attempt to forcibly remount, call drive.mount(\"/content/gdrive\", force_remount=True).\n"
          ]
        }
      ]
    },
    {
      "cell_type": "code",
      "source": [
        "clean_data_filename = '/content/gdrive/MyDrive/ml_cyber_data/clean_validation_data.h5'\n",
        "poisoned_data_filename = '/content/gdrive/MyDrive/ml_cyber_data/sunglasses_poisoned_data.h5'\n",
        "model_filename = '/content/gdrive/MyDrive/ml_cyber_data/bd_net.h5'"
      ],
      "metadata": {
        "id": "wtZr11AHOuh5"
      },
      "execution_count": 6,
      "outputs": []
    },
    {
      "cell_type": "code",
      "source": [
        "def data_loader(filepath):\n",
        "    data = h5py.File(filepath, 'r')\n",
        "    x_data = np.array(data['data'])\n",
        "    y_data = np.array(data['label'])\n",
        "    x_data = x_data.transpose((0,2,3,1))\n",
        "\n",
        "    return x_data, y_data"
      ],
      "metadata": {
        "id": "09AwtzF7GhJt"
      },
      "execution_count": 7,
      "outputs": []
    },
    {
      "cell_type": "code",
      "source": [
        "# data-loading\n",
        "cl_x_test, cl_y_test = data_loader(clean_data_filename)\n",
        "bd_x_test, bd_y_test = data_loader(poisoned_data_filename)\n",
        "model = keras.models.load_model(model_filename)"
      ],
      "metadata": {
        "id": "6U2x9onPTK5Q"
      },
      "execution_count": 8,
      "outputs": []
    },
    {
      "cell_type": "code",
      "source": [
        "# eval\n",
        "def eval(model, cl_x_test=cl_x_test, cl_y_test=cl_y_test,\n",
        "         bd_x_test=bd_x_test, bd_y_test=bd_y_test):\n",
        "  cl_label_p = np.argmax(model.predict(cl_x_test), axis=1)\n",
        "  clean_accuracy = np.mean(np.equal(cl_label_p, cl_y_test))*100\n",
        "  print('Clean Classification accuracy:', clean_accuracy)\n",
        "      \n",
        "  bd_label_p = np.argmax(model.predict(bd_x_test), axis=1)\n",
        "  asr = np.mean(np.equal(bd_label_p, bd_y_test))*100\n",
        "  print('Attack Success Rate:', asr)\n",
        "\n",
        "  return clean_accuracy, asr"
      ],
      "metadata": {
        "id": "Sp81Mo6DJBHs"
      },
      "execution_count": 9,
      "outputs": []
    },
    {
      "cell_type": "code",
      "source": [
        "print('Initial results: ')\n",
        "init_clean_accuracy, init_asr = eval(model)"
      ],
      "metadata": {
        "colab": {
          "base_uri": "https://localhost:8080/"
        },
        "id": "QGJ-H-5pVYk-",
        "outputId": "3533570e-978c-4a98-b44c-f782bdd27443"
      },
      "execution_count": 10,
      "outputs": [
        {
          "output_type": "stream",
          "name": "stdout",
          "text": [
            "Initial results: \n",
            "Clean Classification accuracy: 98.64899974019225\n",
            "Attack Success Rate: 100.0\n"
          ]
        }
      ]
    },
    {
      "cell_type": "code",
      "source": [
        "repaired_model_filename = '/content/gdrive/MyDrive/ml_cyber_data/repaired_model_30.h5'\n",
        "repaired_model = keras.models.load_model(repaired_model_filename, compile=False)"
      ],
      "metadata": {
        "id": "hX_Ih8XiYkOC"
      },
      "execution_count": 11,
      "outputs": []
    },
    {
      "cell_type": "code",
      "source": [
        "np.max(cl_x_test[0])"
      ],
      "metadata": {
        "colab": {
          "base_uri": "https://localhost:8080/"
        },
        "id": "0KQ6Ay_3dR84",
        "outputId": "d2796ffe-84df-4613-dd78-35ea3021b8aa"
      },
      "execution_count": 14,
      "outputs": [
        {
          "output_type": "execute_result",
          "data": {
            "text/plain": [
              "255.0"
            ]
          },
          "metadata": {},
          "execution_count": 14
        }
      ]
    },
    {
      "cell_type": "code",
      "source": [
        "import numpy as np\n",
        "import random\n",
        "\n",
        "class G():\n",
        "  \n",
        "  def __init__(self, model_fixed, clean_dataset,\n",
        "               num_overlay=6,\n",
        "               clean_data_overlay_rate=0.5,\n",
        "               input_data_overlay_rate=0.9,\n",
        "               cls=1283,\n",
        "               threshold = 0.1):\n",
        "    # super(G, self).__init__()\n",
        "    self.model_fixed = model_fixed\n",
        "    self.clean_dataset = clean_dataset\n",
        "    self.num_overlay = num_overlay\n",
        "    self.clean_data_overlay_rate = clean_data_overlay_rate\n",
        "    self.input_data_overlay_rate = input_data_overlay_rate\n",
        "    self.cls = 1283\n",
        "    self.threshold = threshold\n",
        "  \n",
        "  def overlay(self, x, clean_img):\n",
        "    overlay_img = x * self.input_data_overlay_rate + clean_img * self.clean_data_overlay_rate\n",
        "    return np.clip(overlay_img, 0.0, 255.0)\n",
        "  \n",
        "  def predict(self, x):\n",
        "    final_out = []\n",
        "    for i in range(x.shape[0]):\n",
        "      img_shape = x[i].shape\n",
        "      overlay_res = np.zeros(self.num_overlay)\n",
        "      for j in range(self.num_overlay):\n",
        "        overlay_img = self.overlay(x[i],\n",
        "                                   self.clean_dataset[random.randint(0, self.clean_dataset.shape[0]-1)])\n",
        "        overlay_img = np.asarray(overlay_img).reshape((1,\n",
        "                                                       img_shape[0],\n",
        "                                                       img_shape[1],\n",
        "                                                       img_shape[2]))\n",
        "        overlay_res[j] = np.argmax(self.model_fixed.predict(overlay_img))\n",
        "      if np.var(overlay_res) < self.threshold:\n",
        "        # smaller variance on overlayed prediction => poisoned\n",
        "        output_G = np.zeros(self.cls + 1)\n",
        "        output_G[self.cls] = 1\n",
        "      else:\n",
        "        # bigger variance on overlayed prediction => not poisoned\n",
        "        x_single = np.asarray(x[i]).reshape((1,\n",
        "                                             img_shape[0],\n",
        "                                             img_shape[1],\n",
        "                                             img_shape[2]))\n",
        "        output_G = np.append(self.model_fixed.predict(x_single), 0)\n",
        "      final_out.append(output_G)\n",
        "      if i%1000 == 0:\n",
        "        print('Finished iter: ', i)\n",
        "    return np.array(final_out)"
      ],
      "metadata": {
        "id": "4Rr7mC4xC8h2"
      },
      "execution_count": 82,
      "outputs": []
    },
    {
      "cell_type": "code",
      "source": [
        "# supposely \"eval.py\" for alternative G class\n",
        "\n",
        "\n",
        "clean_data_filename = '/content/gdrive/MyDrive/ml_cyber_data/clean_test_data.h5'\n",
        "clean_data_val_filename = '/content/gdrive/MyDrive/ml_cyber_data/clean_validation_data.h5'\n",
        "poisoned_data_filename = '/content/gdrive/MyDrive/ml_cyber_data/sunglasses_poisoned_data.h5'\n",
        "repaired_model_filename = '/content/gdrive/MyDrive/ml_cyber_data/bd_net.h5'\n",
        "# repaired_model_filename = '/content/gdrive/MyDrive/ml_cyber_data/sunglasses_fine_pruning_model.h5'\n",
        "\n",
        "\"\"\"         THIS PATH FORMAT IS FOR .PY FILE\n",
        "clean_data_filename = '/data/clean_test_data.h5'\n",
        "poisoned_data_filename = '/data/sunglasses_poisoned_data.h5'\n",
        "\n",
        "repaired_model_filename = 'models/repaired_model_30.h5'\n",
        "\"\"\"\n",
        "\"\"\"\n",
        "Alternatively, use \n",
        "'models/repaired_model_2.h5', or\n",
        "'models/repaired_model_4.h5', or\n",
        "'models/repaired_model_10.h5'\n",
        "for repaired_model_filename\n",
        "to experiment with different repaired models based on their \n",
        "fractions of pruned channels\n",
        "\"\"\"\n",
        "\n",
        "cl_x_test, cl_y_test = data_loader(clean_data_filename)\n",
        "bd_x_test, bd_y_test = data_loader(poisoned_data_filename)\n",
        "clean_val, clean_val_y = data_loader(clean_data_val_filename)\n",
        "\n",
        "\n",
        "repaired_model = keras.models.load_model(repaired_model_filename, compile=False)\n",
        "\n",
        "goodnet = G(repaired_model, clean_val)\n",
        "\n",
        "cl_label_p = np.argmax(goodnet.predict(cl_x_test), axis=1)\n",
        "clean_accuracy = np.mean(np.equal(cl_label_p, cl_y_test)) * 100\n",
        "print('Clean Classification accuracy:', clean_accuracy)\n",
        "\n",
        "# goodnet_result = goodnet.predict(bd_x_test)\n",
        "# bd_label_p = goodnet_result[:, goodnet_result.shape[1] - 1]\n",
        "bd_label_p = np.argmax(goodnet.predict(bd_x_test), axis=1)\n",
        "asr = np.mean(np.equal(bd_label_p, bd_y_test)) * 100\n",
        "print('Attack Success Rate:', asr)"
      ],
      "metadata": {
        "colab": {
          "base_uri": "https://localhost:8080/"
        },
        "id": "bI5JlXvLmjQ4",
        "outputId": "665c657a-ef07-4276-f3eb-1b62b6984088"
      },
      "execution_count": 83,
      "outputs": [
        {
          "output_type": "stream",
          "name": "stdout",
          "text": [
            "Finished iter:  0\n",
            "Finished iter:  1000\n",
            "Finished iter:  2000\n",
            "Finished iter:  3000\n",
            "Finished iter:  4000\n",
            "Finished iter:  5000\n",
            "Finished iter:  6000\n",
            "Finished iter:  7000\n",
            "Finished iter:  8000\n",
            "Finished iter:  9000\n",
            "Finished iter:  10000\n",
            "Finished iter:  11000\n",
            "Finished iter:  12000\n",
            "Clean Classification accuracy: 92.40062353858146\n",
            "Finished iter:  0\n",
            "Finished iter:  1000\n",
            "Finished iter:  2000\n",
            "Finished iter:  3000\n",
            "Finished iter:  4000\n",
            "Finished iter:  5000\n",
            "Finished iter:  6000\n",
            "Finished iter:  7000\n",
            "Finished iter:  8000\n",
            "Finished iter:  9000\n",
            "Finished iter:  10000\n",
            "Finished iter:  11000\n",
            "Finished iter:  12000\n",
            "Attack Success Rate: 21.948558067030397\n"
          ]
        }
      ]
    }
  ]
}